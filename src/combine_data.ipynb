{
 "cells": [
  {
   "cell_type": "code",
   "execution_count": null,
   "id": "032435ab",
   "metadata": {},
   "outputs": [],
   "source": [
    "import pandas as pd\n",
    "import numpy as np\n",
    "import math\n",
    "import nltk\n",
    "from collections import Counter\n",
    "from nltk.corpus import wordnet as w\n",
    "random_state = 114514"
   ]
  },
  {
   "cell_type": "code",
   "execution_count": null,
   "id": "e6e6bb0c",
   "metadata": {},
   "outputs": [],
   "source": [
    "# Load data\n",
    "gpt_data = pd.read_csv(\"data_process/gpt.csv\")\n",
    "human_data = pd.read_csv(\"data_process/human.csv\")\n",
    "\n",
    "# Combine the two datasets into one\n",
    "data = pd.concat([gpt_data, human_data], ignore_index=True)"
   ]
  },
  {
   "cell_type": "code",
   "execution_count": null,
   "id": "a99d66d7",
   "metadata": {},
   "outputs": [],
   "source": [
    "# Feature extraction functions\n",
    "def sentence_length(text):\n",
    "    text = str(text)\n",
    "    sentences = nltk.sent_tokenize(text)\n",
    "    numberofsentences = len(sentences)\n",
    "    total_words = 0\n",
    "    for i in sentences:\n",
    "        total_words += len(i.split())\n",
    "    avg_sentence = total_words / numberofsentences\n",
    "    return numberofsentences, avg_sentence\n",
    "\n",
    "def repetitivewords(text):\n",
    "    text = str(text)\n",
    "    token = nltk.word_tokenize(text.lower())\n",
    "    synsets = []\n",
    "    for i in token:\n",
    "        synsets.extend(w.synsets(i))\n",
    "    synonyms = []\n",
    "    for synset in synsets:\n",
    "        synonyms.append([lemma.name() for lemma in synset.lemmas()])\n",
    "    repeat = 0\n",
    "    for index in range(len(synonyms)):\n",
    "        for nextindex in range(index+1, len(synonyms)):\n",
    "            if len(set(synonyms[index]) & set(synonyms[nextindex])) > 0:\n",
    "                repeat += 1\n",
    "    return repeat / len(token)\n",
    "\n",
    "def entropy(text):\n",
    "    text = str(text)\n",
    "    tokens = nltk.word_tokenize(text.lower())\n",
    "    tokennumber = Counter(tokens)\n",
    "    total = len(tokens)\n",
    "    numberofprobs = []\n",
    "    for count in tokennumber.values():\n",
    "        prob = count / total\n",
    "        numberofprobs.append(prob)\n",
    "    entropy = 0.0\n",
    "    for i in numberofprobs:\n",
    "        if i > 0:\n",
    "            entropy -= i * (math.log(i, 2))\n",
    "    return entropy\n",
    "\n",
    "# Extract features\n",
    "data['sent_length'], data['avg_sent_length'] = zip(*data['text'].apply(sentence_length))\n",
    "data['repetitive_words'] = data['text'].apply(repetitivewords)\n",
    "data['text_entropy'] = data['text'].apply(entropy)\n",
    "\n",
    "# save the DataFrame to a CSV file\n",
    "data.to_csv('data_process/processed_data.csv', index=False)"
   ]
  },
  {
   "cell_type": "code",
   "execution_count": 65,
   "id": "1cd3de78",
   "metadata": {},
   "outputs": [],
   "source": [
    "data = pd.read_csv(\"data_process/processed_data.csv\")"
   ]
  },
  {
   "cell_type": "code",
   "execution_count": 66,
   "id": "dfd77679",
   "metadata": {},
   "outputs": [
    {
     "data": {
      "text/plain": [
       "generated\n",
       "0    101643\n",
       "1     10000\n",
       "Name: count, dtype: int64"
      ]
     },
     "execution_count": 66,
     "metadata": {},
     "output_type": "execute_result"
    }
   ],
   "source": [
    "data['generated'].value_counts()"
   ]
  },
  {
   "cell_type": "code",
   "execution_count": 67,
   "id": "2b05a879",
   "metadata": {},
   "outputs": [
    {
     "data": {
      "text/plain": [
       "generated\n",
       "1    10000\n",
       "0    10000\n",
       "Name: count, dtype: int64"
      ]
     },
     "execution_count": 67,
     "metadata": {},
     "output_type": "execute_result"
    }
   ],
   "source": [
    "num_to_drop = data['generated'].value_counts()[0] - data['generated'].value_counts()[1]\n",
    "data = data.drop(data[data['generated'] == 0].sample(n=num_to_drop).index)\n",
    "data['generated'].value_counts()"
   ]
  },
  {
   "cell_type": "code",
   "execution_count": 73,
   "id": "6acd5267",
   "metadata": {},
   "outputs": [],
   "source": [
    "rows_to_keep = 6000\n",
    "sampled_data = data.groupby('generated', group_keys=False).apply(lambda x: x.sample(n=rows_to_keep))\n",
    "sampled_data.to_csv('data_process/processed_sample_data.csv', index=False)"
   ]
  },
  {
   "cell_type": "code",
   "execution_count": null,
   "id": "41e684a3",
   "metadata": {},
   "outputs": [],
   "source": []
  }
 ],
 "metadata": {
  "kernelspec": {
   "display_name": "Python 3 (ipykernel)",
   "language": "python",
   "name": "python3"
  },
  "language_info": {
   "codemirror_mode": {
    "name": "ipython",
    "version": 3
   },
   "file_extension": ".py",
   "mimetype": "text/x-python",
   "name": "python",
   "nbconvert_exporter": "python",
   "pygments_lexer": "ipython3",
   "version": "3.10.11"
  }
 },
 "nbformat": 4,
 "nbformat_minor": 5
}
