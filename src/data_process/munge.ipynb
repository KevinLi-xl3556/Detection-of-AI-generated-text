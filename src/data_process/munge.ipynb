{
 "cells": [
  {
   "cell_type": "code",
   "execution_count": 23,
   "metadata": {},
   "outputs": [],
   "source": [
    "import pandas as pd\n",
    "import glob\n",
    "import lxml.html\n",
    "import random"
   ]
  },
  {
   "cell_type": "code",
   "execution_count": 24,
   "metadata": {},
   "outputs": [
    {
     "data": {
      "text/plain": [
       "0.37960909731866566"
      ]
     },
     "execution_count": 24,
     "metadata": {},
     "output_type": "execute_result"
    }
   ],
   "source": [
    "random.random()"
   ]
  },
  {
   "cell_type": "code",
   "execution_count": 25,
   "metadata": {},
   "outputs": [],
   "source": [
    "a = ['a', 'b', 'c', 'a', 'b', 'c', 'a', 'b', 'c']\n",
    "g = [1 if random.random() < 0.5 else 0 for i in a]"
   ]
  },
  {
   "cell_type": "code",
   "execution_count": 26,
   "metadata": {},
   "outputs": [
    {
     "data": {
      "text/plain": [
       "[0, 1, 1, 0, 1, 0, 0, 1, 1]"
      ]
     },
     "execution_count": 26,
     "metadata": {},
     "output_type": "execute_result"
    }
   ],
   "source": [
    "g"
   ]
  },
  {
   "cell_type": "code",
   "execution_count": 27,
   "metadata": {},
   "outputs": [],
   "source": [
    "def concatenate_gpt(files):\n",
    "    dfs = []\n",
    "    for file in files:\n",
    "        raw_df = pd.read_csv(file)\n",
    "        df = pd.DataFrame({'text': [str(t).strip() for t in raw_df['text']],\n",
    "                       'generated': 1})\n",
    "        dfs.append(df)\n",
    "\n",
    "    gpt = pd.concat(dfs, ignore_index=True)\n",
    "    gpt.to_csv('gpt.csv', index=False)\n",
    "    return gpt\n"
   ]
  },
  {
   "cell_type": "code",
   "execution_count": 28,
   "metadata": {},
   "outputs": [
    {
     "data": {
      "text/html": [
       "<div>\n",
       "<style scoped>\n",
       "    .dataframe tbody tr th:only-of-type {\n",
       "        vertical-align: middle;\n",
       "    }\n",
       "\n",
       "    .dataframe tbody tr th {\n",
       "        vertical-align: top;\n",
       "    }\n",
       "\n",
       "    .dataframe thead th {\n",
       "        text-align: right;\n",
       "    }\n",
       "</style>\n",
       "<table border=\"1\" class=\"dataframe\">\n",
       "  <thead>\n",
       "    <tr style=\"text-align: right;\">\n",
       "      <th></th>\n",
       "      <th>text</th>\n",
       "      <th>generated</th>\n",
       "    </tr>\n",
       "  </thead>\n",
       "  <tbody>\n",
       "    <tr>\n",
       "      <th>0</th>\n",
       "      <td>Dawn on its way to victory, but where does it ...</td>\n",
       "      <td>1</td>\n",
       "    </tr>\n",
       "    <tr>\n",
       "      <th>1</th>\n",
       "      <td>Drew Angerer/Getty Images\\n\\nThere are many th...</td>\n",
       "      <td>1</td>\n",
       "    </tr>\n",
       "    <tr>\n",
       "      <th>2</th>\n",
       "      <td>In my last post, I gave a post on the use of t...</td>\n",
       "      <td>1</td>\n",
       "    </tr>\n",
       "    <tr>\n",
       "      <th>3</th>\n",
       "      <td>Brought to you by:\\n\\nKFC\\n\\nHogan's Day\\n\\nSo...</td>\n",
       "      <td>1</td>\n",
       "    </tr>\n",
       "    <tr>\n",
       "      <th>4</th>\n",
       "      <td>It's time for the first time since 2008, and w...</td>\n",
       "      <td>1</td>\n",
       "    </tr>\n",
       "    <tr>\n",
       "      <th>...</th>\n",
       "      <td>...</td>\n",
       "      <td>...</td>\n",
       "    </tr>\n",
       "    <tr>\n",
       "      <th>9995</th>\n",
       "      <td>alabamer, philly pix, pestle, live nectar, dan...</td>\n",
       "      <td>1</td>\n",
       "    </tr>\n",
       "    <tr>\n",
       "      <th>9996</th>\n",
       "      <td>Ballistics System Summary\\n\\nA linear three-di...</td>\n",
       "      <td>1</td>\n",
       "    </tr>\n",
       "    <tr>\n",
       "      <th>9997</th>\n",
       "      <td>http://dailytarbadilla.com/policies/opinions/2...</td>\n",
       "      <td>1</td>\n",
       "    </tr>\n",
       "    <tr>\n",
       "      <th>9998</th>\n",
       "      <td>Harmony in that regard is momentous'\", Ocaden ...</td>\n",
       "      <td>1</td>\n",
       "    </tr>\n",
       "    <tr>\n",
       "      <th>9999</th>\n",
       "      <td>Bolton Steel\\n\\nRelated Posts\\n\\nAvailable as ...</td>\n",
       "      <td>1</td>\n",
       "    </tr>\n",
       "  </tbody>\n",
       "</table>\n",
       "<p>10000 rows × 2 columns</p>\n",
       "</div>"
      ],
      "text/plain": [
       "                                                   text  generated\n",
       "0     Dawn on its way to victory, but where does it ...          1\n",
       "1     Drew Angerer/Getty Images\\n\\nThere are many th...          1\n",
       "2     In my last post, I gave a post on the use of t...          1\n",
       "3     Brought to you by:\\n\\nKFC\\n\\nHogan's Day\\n\\nSo...          1\n",
       "4     It's time for the first time since 2008, and w...          1\n",
       "...                                                 ...        ...\n",
       "9995  alabamer, philly pix, pestle, live nectar, dan...          1\n",
       "9996  Ballistics System Summary\\n\\nA linear three-di...          1\n",
       "9997  http://dailytarbadilla.com/policies/opinions/2...          1\n",
       "9998  Harmony in that regard is momentous'\", Ocaden ...          1\n",
       "9999  Bolton Steel\\n\\nRelated Posts\\n\\nAvailable as ...          1\n",
       "\n",
       "[10000 rows x 2 columns]"
      ]
     },
     "execution_count": 28,
     "metadata": {},
     "output_type": "execute_result"
    }
   ],
   "source": [
    "concatenate_gpt(glob.glob('gpt_data/*.csv'))"
   ]
  },
  {
   "cell_type": "code",
   "execution_count": 29,
   "metadata": {},
   "outputs": [],
   "source": [
    "def parse_blog_xml(file):\n",
    "    tree = lxml.html.parse(file)\n",
    "    post_els = tree.findall('.//post')\n",
    "    posts = [p.text.replace('urlLink', '').strip() for p in post_els]\n",
    "    return posts"
   ]
  },
  {
   "cell_type": "code",
   "execution_count": 30,
   "metadata": {},
   "outputs": [],
   "source": [
    "BLOG_FILE_NUM = 0 # change this to add blog data\n",
    "def process_human(fake=False):\n",
    "    dfs = []\n",
    "\n",
    "    files = glob.glob('nyt_data/*.csv')\n",
    "\n",
    "    for file in files:\n",
    "        raw_df = pd.read_csv(file)\n",
    "        text_list = [str(t).strip() for t in raw_df['abstract']]\n",
    "        generated = [1 if random.random() < 0.5 else 0 for _ in text_list] if fake else 0\n",
    "        df = pd.DataFrame({'text': text_list,\n",
    "                       'generated': generated})\n",
    "        dfs.append(df)\n",
    "\n",
    "    nyt_scraped_files = glob.glob('../nyt_scraper/data/*.txt')\n",
    "    for file in nyt_scraped_files:\n",
    "        lines = open(file).readlines()\n",
    "        text_list = [l.strip() for l in lines]\n",
    "        generated = [1 if random.random() < 0.5 else 0 for _ in text_list] if fake else 0\n",
    "        df = pd.DataFrame({'text': [l.strip() for l in lines],\n",
    "                       'generated': generated})\n",
    "        dfs.append(df)\n",
    "\n",
    "    blog_files = glob.glob('blogs/*.xml')[:BLOG_FILE_NUM]\n",
    "    for file in blog_files:\n",
    "        posts = parse_blog_xml(file)\n",
    "        generated = [1 if random.random() < 0.5 else 0 for _ in posts] if fake else 0\n",
    "        df = pd.DataFrame({'text': posts,\n",
    "                       'generated': generated})\n",
    "        dfs.append(df)\n",
    "\n",
    "    human = pd.concat(dfs, ignore_index=True)\n",
    "    outfile = 'fake.csv' if fake else 'human.csv'\n",
    "    human.to_csv(outfile, index=False)\n",
    "    return human"
   ]
  },
  {
   "cell_type": "code",
   "execution_count": 31,
   "metadata": {},
   "outputs": [
    {
     "data": {
      "text/html": [
       "<div>\n",
       "<style scoped>\n",
       "    .dataframe tbody tr th:only-of-type {\n",
       "        vertical-align: middle;\n",
       "    }\n",
       "\n",
       "    .dataframe tbody tr th {\n",
       "        vertical-align: top;\n",
       "    }\n",
       "\n",
       "    .dataframe thead th {\n",
       "        text-align: right;\n",
       "    }\n",
       "</style>\n",
       "<table border=\"1\" class=\"dataframe\">\n",
       "  <thead>\n",
       "    <tr style=\"text-align: right;\">\n",
       "      <th></th>\n",
       "      <th>text</th>\n",
       "      <th>generated</th>\n",
       "    </tr>\n",
       "  </thead>\n",
       "  <tbody>\n",
       "    <tr>\n",
       "      <th>0</th>\n",
       "      <td>Congress could do much more to protect America...</td>\n",
       "      <td>1.0</td>\n",
       "    </tr>\n",
       "    <tr>\n",
       "      <th>1</th>\n",
       "      <td>Christina Iverson and Jeff Chen ring in the Ne...</td>\n",
       "      <td>0.0</td>\n",
       "    </tr>\n",
       "    <tr>\n",
       "      <th>2</th>\n",
       "      <td>All year long, Earth passes through streams of...</td>\n",
       "      <td>1.0</td>\n",
       "    </tr>\n",
       "    <tr>\n",
       "      <th>3</th>\n",
       "      <td>Never miss an eclipse, a meteor shower, a rock...</td>\n",
       "      <td>1.0</td>\n",
       "    </tr>\n",
       "    <tr>\n",
       "      <th>4</th>\n",
       "      <td>A year full of highs and lows in space just en...</td>\n",
       "      <td>0.0</td>\n",
       "    </tr>\n",
       "    <tr>\n",
       "      <th>...</th>\n",
       "      <td>...</td>\n",
       "      <td>...</td>\n",
       "    </tr>\n",
       "    <tr>\n",
       "      <th>119985</th>\n",
       "      <td>The program, The Globe wrote, was “a penetrati...</td>\n",
       "      <td>0.0</td>\n",
       "    </tr>\n",
       "    <tr>\n",
       "      <th>119986</th>\n",
       "      <td>Ms. Jarvis began filming in China in August 19...</td>\n",
       "      <td>0.0</td>\n",
       "    </tr>\n",
       "    <tr>\n",
       "      <th>119987</th>\n",
       "      <td>Ms. Jarvis left NBC in 1976 and founded her ow...</td>\n",
       "      <td>0.0</td>\n",
       "    </tr>\n",
       "    <tr>\n",
       "      <th>119988</th>\n",
       "      <td>In addition to “Junon and Avos,” which Ms. Jar...</td>\n",
       "      <td>0.0</td>\n",
       "    </tr>\n",
       "    <tr>\n",
       "      <th>119989</th>\n",
       "      <td>Ms. Jarvis’s husband died in 1999. A daughter,...</td>\n",
       "      <td>0.0</td>\n",
       "    </tr>\n",
       "  </tbody>\n",
       "</table>\n",
       "<p>119990 rows × 2 columns</p>\n",
       "</div>"
      ],
      "text/plain": [
       "                                                     text  generated\n",
       "0       Congress could do much more to protect America...        1.0\n",
       "1       Christina Iverson and Jeff Chen ring in the Ne...        0.0\n",
       "2       All year long, Earth passes through streams of...        1.0\n",
       "3       Never miss an eclipse, a meteor shower, a rock...        1.0\n",
       "4       A year full of highs and lows in space just en...        0.0\n",
       "...                                                   ...        ...\n",
       "119985  The program, The Globe wrote, was “a penetrati...        0.0\n",
       "119986  Ms. Jarvis began filming in China in August 19...        0.0\n",
       "119987  Ms. Jarvis left NBC in 1976 and founded her ow...        0.0\n",
       "119988  In addition to “Junon and Avos,” which Ms. Jar...        0.0\n",
       "119989  Ms. Jarvis’s husband died in 1999. A daughter,...        0.0\n",
       "\n",
       "[119990 rows x 2 columns]"
      ]
     },
     "execution_count": 31,
     "metadata": {},
     "output_type": "execute_result"
    }
   ],
   "source": [
    "process_human(True)"
   ]
  },
  {
   "cell_type": "code",
   "execution_count": null,
   "metadata": {},
   "outputs": [],
   "source": []
  },
  {
   "cell_type": "code",
   "execution_count": null,
   "metadata": {},
   "outputs": [],
   "source": []
  }
 ],
 "metadata": {
  "kernelspec": {
   "display_name": "Python 3",
   "language": "python",
   "name": "python3"
  },
  "language_info": {
   "codemirror_mode": {
    "name": "ipython",
    "version": 3
   },
   "file_extension": ".py",
   "mimetype": "text/x-python",
   "name": "python",
   "nbconvert_exporter": "python",
   "pygments_lexer": "ipython3",
   "version": "3.10.11"
  },
  "orig_nbformat": 4
 },
 "nbformat": 4,
 "nbformat_minor": 2
}
